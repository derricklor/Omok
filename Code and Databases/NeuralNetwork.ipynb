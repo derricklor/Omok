{
 "cells": [
  {
   "cell_type": "code",
   "execution_count": 1,
   "metadata": {
    "id": "npFemIWusYQi"
   },
   "outputs": [
    {
     "name": "stdout",
     "output_type": "stream",
     "text": [
      "pygame 2.5.2 (SDL 2.28.3, Python 3.10.6)\n",
      "Hello from the pygame community. https://www.pygame.org/contribute.html\n"
     ]
    }
   ],
   "source": [
    "from Omok import *\n",
    "import matplotlib.pyplot as plt\n",
    "import numpy as np\n",
    "import numpy as np\n",
    "import csv "
   ]
  },
  {
   "cell_type": "code",
   "execution_count": 2,
   "metadata": {
    "id": "oTrTMpTwtLXd"
   },
   "outputs": [],
   "source": [
    "class FCLayer:\n",
    "    def __init__(self, input_size, output_size):\n",
    "        # input_size = number of input neurons\n",
    "        # output_size = number of output neurons\n",
    "        self.input_size = input_size\n",
    "        self.output_size = output_size\n",
    "        self.weights = np.random.randn(input_size, output_size) / np.sqrt(input_size + output_size)\n",
    "        self.bias = np.random.randn(1, output_size) / np.sqrt(input_size + output_size)\n",
    "        \n",
    "    # returns output for a given input\n",
    "    def forward(self, input):\n",
    "        self.input = input\n",
    "        return np.dot(input, self.weights) + self.bias\n",
    "        \n",
    "    # computes dE/dW, dE/dB for a given output_error=dE/dY. Returns input_error=dE/dX.\n",
    "    def backward(self, output_error, learning_rate):\n",
    "        input_error = np.dot(output_error, self.weights.T)\n",
    "        weights_error = np.dot(self.input.T, output_error)\n",
    "        # bias_error = output_error\n",
    "\n",
    "        self.weights -= learning_rate * weights_error\n",
    "        self.bias -= learning_rate * output_error\n",
    "        return input_error"
   ]
  },
  {
   "cell_type": "code",
   "execution_count": 3,
   "metadata": {
    "id": "E6nSYAB2sam3"
   },
   "outputs": [],
   "source": [
    "class ActivationLayer:\n",
    "    def __init__(self, activation, activation_prime):\n",
    "        self.activation = activation\n",
    "        self.activation_prime = activation_prime\n",
    "        \n",
    "    # returns the activated input\n",
    "    def forward(self, input):\n",
    "        self.input = input\n",
    "        return self.activation(input)\n",
    "        \n",
    "    # Returns input_error=dE/dX for a given output_error=dE/dY.\n",
    "    # learning_rate is not used because there is no \"learnable\" parameters.\n",
    "    def backward(self, output_error, learning_rate):\n",
    "        return output_error * self.activation_prime(self.input)"
   ]
  },
  {
   "cell_type": "code",
   "execution_count": 4,
   "metadata": {
    "id": "hl8LxP1lAEiN"
   },
   "outputs": [],
   "source": [
    "# bonus\n",
    "class FlattenLayer:\n",
    "    def __init__(self, input_shape):\n",
    "        self.input_shape = input_shape\n",
    "\n",
    "    def forward(self, input):\n",
    "        return np.reshape(input, (1, -1)) #reshape into 1 dim with unknown length\n",
    "\n",
    "    def backward(self, output_error, learning_rate):\n",
    "        return np.reshape(output_error, self.input_shape)"
   ]
  },
  {
   "cell_type": "code",
   "execution_count": 5,
   "metadata": {
    "id": "RQeuIfkK3vyl"
   },
   "outputs": [],
   "source": [
    "# bonus\n",
    "class SoftmaxLayer:\n",
    "    def __init__(self, input_size):\n",
    "        self.input_size = input_size\n",
    "\n",
    "    def forward(self, input):\n",
    "        self.input = input\n",
    "        tmp = np.exp(input)\n",
    "        self.output = tmp / np.sum(tmp)\n",
    "        return self.output\n",
    "\n",
    "    def backward(self, output_error, learning_rate):\n",
    "        input_error = np.zeros(output_error.shape)\n",
    "        out = np.tile(self.output.T, self.input_size)\n",
    "        return self.output * np.dot(output_error, np.identity(self.input_size) - out)"
   ]
  },
  {
   "cell_type": "code",
   "execution_count": 6,
   "metadata": {
    "id": "LuPbn70Wt8Q7"
   },
   "outputs": [],
   "source": [
    "# activation functions\n",
    "def sigmoid(x):\n",
    "    return 1 / (1 + np.exp(-x))\n",
    "\n",
    "def sigmoid_prime(x):\n",
    "    return np.exp(-x) / (1 + np.exp(-x))**2\n",
    "\n",
    "def tanh(x):\n",
    "    return np.tanh(x)\n",
    "\n",
    "def tanh_prime(x):\n",
    "    return 1 - np.tanh(x)**2\n",
    "\n",
    "def relu(x):\n",
    "    return np.maximum(x, 0)\n",
    "\n",
    "def relu_prime(x):\n",
    "    return np.array(x >= 0).astype('int')"
   ]
  },
  {
   "cell_type": "code",
   "execution_count": 7,
   "metadata": {
    "id": "rXY7jkUzuqEk"
   },
   "outputs": [],
   "source": [
    "#Loss function. Mean squared error.\n",
    "def mse(y_true, y_pred):\n",
    "    return np.mean(np.power(y_true - y_pred, 2))\n",
    "\n",
    "def mse_prime(y_true, y_pred):\n",
    "    return 2 * (y_pred - y_true) / y_pred.size\n",
    "\n",
    "def sse(y_true, y_pred):\n",
    "    return 0.5 * np.sum(np.power(y_true - y_pred, 2))\n",
    "\n",
    "def sse_prime(y_true, y_pred):\n",
    "    return y_pred - y_true"
   ]
  },
  {
   "cell_type": "code",
   "execution_count": 8,
   "metadata": {},
   "outputs": [],
   "source": [
    "x_train = []\n",
    "y_train = []"
   ]
  },
  {
   "cell_type": "code",
   "execution_count": 48,
   "metadata": {},
   "outputs": [
    {
     "name": "stdout",
     "output_type": "stream",
     "text": [
      "training done\n"
     ]
    }
   ],
   "source": [
    "#generate training data\n",
    "#currently includes all wins, losses, draws\n",
    "runs = 1\n",
    "episodes = 200\n",
    "for k in range(runs):\n",
    "    for i in range(episodes):\n",
    "        board = Board(9, 5)\n",
    "        shistory = []\n",
    "        ahistory = []\n",
    "        state = board.board\n",
    "        running = True\n",
    "        while running:\n",
    "            \n",
    "            if board.piecesOnBoard < 1:\n",
    "                #action = (4,4)\n",
    "                action = board.get_random_neighbor(4, 4, 1)\n",
    "                #action = board.availableActions[np.random.randint(len(board.availableActions))]\n",
    "            else:\n",
    "                rowAgent, colAgent, score = board.minimaxABPruning(1, -np.infty, np.infty, True)\n",
    "                action = (rowAgent, colAgent)\n",
    "\n",
    "            shistory.append(cp.deepcopy(board.board))\n",
    "            ahistory.append(np.array(action))\n",
    "            \n",
    "            newstate, reward, running, winner = board.step(action)\n",
    "            state = newstate\n",
    "            if winner == PLAYER:\n",
    "                #print(\"player won\")\n",
    "                #add to training data if only win\n",
    "                for each in shistory:\n",
    "                    x_train.append(each)\n",
    "                for each in ahistory:\n",
    "                    y_train.append(each)\n",
    "            \n",
    "print(\"training done\")"
   ]
  },
  {
   "cell_type": "code",
   "execution_count": 71,
   "metadata": {},
   "outputs": [
    {
     "name": "stdout",
     "output_type": "stream",
     "text": [
      "length of x_training data: 5613\n",
      "[array([[0., 0., 0., 0., 0., 0., 0., 0., 0.],\n",
      "       [0., 0., 0., 0., 0., 0., 0., 0., 0.],\n",
      "       [0., 0., 0., 0., 0., 0., 0., 0., 0.],\n",
      "       [0., 0., 0., 0., 0., 0., 0., 0., 0.],\n",
      "       [0., 0., 0., 0., 0., 0., 0., 0., 0.],\n",
      "       [0., 0., 0., 0., 0., 0., 0., 0., 0.],\n",
      "       [0., 0., 0., 0., 0., 0., 0., 0., 0.],\n",
      "       [0., 0., 0., 0., 0., 0., 0., 0., 0.],\n",
      "       [0., 0., 0., 0., 0., 0., 0., 0., 0.]])]\n",
      "length of y_training data: 5613\n",
      "[array([4, 4])]\n"
     ]
    }
   ],
   "source": [
    "print(f'length of x_training data: {len(x_train)}')\n",
    "print(x_train[:1])\n",
    "print(f'length of y_training data: {len(x_train)}')\n",
    "print(y_train[:1])"
   ]
  },
  {
   "cell_type": "code",
   "execution_count": 72,
   "metadata": {},
   "outputs": [],
   "source": [
    "with open('tx_data.csv', 'w') as file:\n",
    "    writer = csv.writer(file)\n",
    "    writer.writerows(x_train)"
   ]
  },
  {
   "cell_type": "code",
   "execution_count": 73,
   "metadata": {},
   "outputs": [],
   "source": [
    "with open('ty_data.csv', 'w') as file:\n",
    "    writer = csv.writer(file)\n",
    "    writer.writerows(y_train)"
   ]
  },
  {
   "cell_type": "code",
   "execution_count": 104,
   "metadata": {},
   "outputs": [],
   "source": [
    "network = [\n",
    "    FlattenLayer(input_shape=(9, 9)),\n",
    "    FCLayer(9*9, 12),\n",
    "    ActivationLayer(relu, relu_prime),\n",
    "    FCLayer(12, 2),\n",
    "    SoftmaxLayer(2)\n",
    "]"
   ]
  },
  {
   "cell_type": "code",
   "execution_count": 105,
   "metadata": {},
   "outputs": [
    {
     "name": "stdout",
     "output_type": "stream",
     "text": [
      "1/51, error=13.259951\n",
      "11/51, error=13.058999\n",
      "21/51, error=12.941385\n",
      "31/51, error=12.919705\n",
      "41/51, error=12.919143\n",
      "51/51, error=12.919065\n"
     ]
    }
   ],
   "source": [
    "epochs = 51\n",
    "learning_rate = 0.1\n",
    "\n",
    "errorlist = np.zeros(epochs)\n",
    "# training\n",
    "for epoch in range(epochs):\n",
    "    error = 0\n",
    "    for x, y_true in zip(x_train, y_train):\n",
    "        # forward\n",
    "        output = x\n",
    "        for layer in network:\n",
    "            output = layer.forward(output)\n",
    "        # error (display purpose only)\n",
    "        error += mse(y_true, output)\n",
    "\n",
    "        # backward\n",
    "        output_error = mse_prime(y_true, output)\n",
    "        for layer in reversed(network):\n",
    "            output_error = layer.backward(output_error, learning_rate)\n",
    "    \n",
    "    error /= len(x_train)\n",
    "    errorlist[epoch] = error\n",
    "    if epoch%10 == 0:\n",
    "        print('%d/%d, error=%f' % (epoch + 1, epochs, error))"
   ]
  },
  {
   "cell_type": "code",
   "execution_count": 114,
   "metadata": {},
   "outputs": [
    {
     "data": {
      "image/png": "[encoded data removed]",
      "text/plain": [
       "<Figure size 640x480 with 1 Axes>"
      ]
     },
     "metadata": {},
     "output_type": "display_data"
    }
   ],
   "source": [
    "x = np.arange(epochs)\n",
    "\n",
    "plt.plot(x, errorlist)\n",
    "\n",
    "plt.title(\"loss vs. number of episodes\")\n",
    "plt.xlabel(\"number of episodes\")\n",
    "plt.ylabel(\"loss\")\n",
    "plt.ylim(12.5,13.5)\n",
    "plt.show()"
   ]
  },
  {
   "cell_type": "code",
   "execution_count": 15,
   "metadata": {},
   "outputs": [],
   "source": [
    "x_test = []\n",
    "y_test = []"
   ]
  },
  {
   "cell_type": "code",
   "execution_count": 16,
   "metadata": {},
   "outputs": [],
   "source": [
    "runs = 1\n",
    "episodes = 20\n",
    "#generate some test data\n",
    "for k in range(runs):\n",
    "    for i in range(episodes):\n",
    "        board = Board(9, 5)\n",
    "        state = board.board\n",
    "        running = True\n",
    "        while running:\n",
    "            \n",
    "            if board.piecesOnBoard < 1:\n",
    "                #action = (4,4)\n",
    "                action = board.get_random_neighbor(4, 4, 1)\n",
    "                #action = board.availableActions[np.random.randint(len(board.availableActions))]\n",
    "            else:\n",
    "                rowAgent, colAgent, score = board.minimaxABPruning(1, -np.infty, np.infty, True)\n",
    "                action = (rowAgent, colAgent)\n",
    "            \n",
    "            x_test.append(cp.deepcopy(board.board))\n",
    "            y_test.append(np.array(action))\n",
    "            newstate, reward, running, winner = board.step(action)\n",
    "            \n",
    "            state = newstate"
   ]
  },
  {
   "cell_type": "code",
   "execution_count": null,
   "metadata": {},
   "outputs": [],
   "source": [
    "print(f'length of x_training data: {len(x_test)}')\n",
    "print(x_test[:1])\n",
    "print(f'length of y_training data: {len(x_test)}')\n",
    "print(y_test[:1])"
   ]
  },
  {
   "cell_type": "code",
   "execution_count": 96,
   "metadata": {},
   "outputs": [
    {
     "name": "stdout",
     "output_type": "stream",
     "text": [
      "[[0.5 0.5]]\n"
     ]
    }
   ],
   "source": [
    "def predict(network, input):\n",
    "    output = input\n",
    "    for layer in network:\n",
    "        output = layer.forward(output)\n",
    "    return output\n",
    "\n",
    "out = predict(network, x_train[0])\n",
    "print(out)"
   ]
  },
  {
   "cell_type": "code",
   "execution_count": 115,
   "metadata": {
    "colab": {
     "base_uri": "https://localhost:8080/",
     "height": 51
    },
    "executionInfo": {
     "elapsed": 2703,
     "status": "ok",
     "timestamp": 1585514381265,
     "user": {
      "displayName": "Omar Aflak",
      "photoUrl": "",
      "userId": "05292245736106620654"
     },
     "user_tz": -120
    },
    "id": "mrMLx3eGv3jk",
    "outputId": "8ddef79b-f234-401e-f366-045e3b9a2569"
   },
   "outputs": [
    {
     "name": "stdout",
     "output_type": "stream",
     "text": [
      "ratio of trained data\n",
      "ratio: 0.81\n",
      "mse: 12.9189\n"
     ]
    }
   ],
   "source": [
    "ratio = sum([np.argmax(y) == np.argmax(predict(network, x)) for x, y in zip(x_train, y_train)]) / len(x_train)\n",
    "error = sum([mse(y, predict(network, x)) for x, y in zip(x_train, y_train)]) / len(x_train)\n",
    "print(\"ratio of trained data\")\n",
    "print('ratio: %.2f' % ratio)\n",
    "print('mse: %.4f' % error)"
   ]
  },
  {
   "cell_type": "code",
   "execution_count": 116,
   "metadata": {
    "colab": {
     "base_uri": "https://localhost:8080/",
     "height": 51
    },
    "executionInfo": {
     "elapsed": 2703,
     "status": "ok",
     "timestamp": 1585514381265,
     "user": {
      "displayName": "Omar Aflak",
      "photoUrl": "",
      "userId": "05292245736106620654"
     },
     "user_tz": -120
    },
    "id": "mrMLx3eGv3jk",
    "outputId": "8ddef79b-f234-401e-f366-045e3b9a2569"
   },
   "outputs": [
    {
     "name": "stdout",
     "output_type": "stream",
     "text": [
      "ratio of test data\n",
      "ratio: 0.64\n",
      "mse: 15.1272\n"
     ]
    }
   ],
   "source": [
    "ratio = sum([np.argmax(y) == np.argmax(predict(network, x)) for x, y in zip(x_test, y_test)]) / len(x_test)\n",
    "error = sum([mse(y, predict(network, x)) for x, y in zip(x_test, y_test)]) / len(x_test)\n",
    "print(\"ratio of test data\")\n",
    "print('ratio: %.2f' % ratio)\n",
    "print('mse: %.4f' % error)"
   ]
  },
  {
   "cell_type": "code",
   "execution_count": null,
   "metadata": {},
   "outputs": [],
   "source": []
  }
 ],
 "metadata": {
  "colab": {
   "provenance": [
    {
     "file_id": "10y6glU28-sa-OtkeL8BtAtRlOITGMnMw",
     "timestamp": 1714409049124
    }
   ]
  },
  "kernelspec": {
   "display_name": "Python 3 (ipykernel)",
   "language": "python",
   "name": "python3"
  },
  "language_info": {
   "codemirror_mode": {
    "name": "ipython",
    "version": 3
   },
   "file_extension": ".py",
   "mimetype": "text/x-python",
   "name": "python",
   "nbconvert_exporter": "python",
   "pygments_lexer": "ipython3",
   "version": "3.10.6"
  }
 },
 "nbformat": 4,
 "nbformat_minor": 4
}
